{
 "cells": [
  {
   "cell_type": "markdown",
   "id": "35f00110-4a1b-494c-af1c-5812e71385e6",
   "metadata": {},
   "source": [
    "## Day 5:  Python Basics 🚀"
   ]
  },
  {
   "cell_type": "code",
   "execution_count": null,
   "id": "bf17e723-e0e4-44b0-94b8-9341dbd8e0db",
   "metadata": {},
   "outputs": [],
   "source": [
    "import numpy as np\n",
    "import matplotlib.pyplot as plt\n",
    "from astropy.io import fits\n",
    "from astropy import units as u\n",
    "from astropy.coordinates import SkyCoord\n",
    "from astropy.time import Time \n",
    "from astropy.table import Table \n",
    "from astropy.visualization import simple_norm"
   ]
  },
  {
   "cell_type": "code",
   "execution_count": null,
   "id": "e6c37f9d-262c-4ba7-8806-928749ca89c0",
   "metadata": {},
   "outputs": [],
   "source": [
    "from astropy.io import fits\n",
    "fits_image_filename = fits.util.get_testdata_filepath('test0.fits')\n",
    "hdul = fits.open(fits_image_filename)"
   ]
  },
  {
   "cell_type": "code",
   "execution_count": null,
   "id": "e62820aa-9048-476c-82d7-bd5b0eae6880",
   "metadata": {},
   "outputs": [],
   "source": [
    "data = hdul[1].data"
   ]
  },
  {
   "cell_type": "code",
   "execution_count": null,
   "id": "85dc00d2-b52f-4d93-b14c-5218c0402eb1",
   "metadata": {},
   "outputs": [],
   "source": [
    "with fits.open(fits_image_filename) as hdul:\n",
    "    hdul.info()"
   ]
  },
  {
   "cell_type": "code",
   "execution_count": null,
   "id": "2285539e-5bfa-4145-992f-05c1262d5774",
   "metadata": {},
   "outputs": [],
   "source": [
    "hdul = fits.open(fits_image_filename)\n",
    "hdul[0].header['date']"
   ]
  },
  {
   "cell_type": "code",
   "execution_count": null,
   "id": "ff8584fc-f1b4-46e5-bb55-cad263875ebd",
   "metadata": {},
   "outputs": [],
   "source": [
    "data = hdul['SCI'].data"
   ]
  },
  {
   "cell_type": "code",
   "execution_count": null,
   "id": "611ad372-f172-46f0-a342-ffc27de18233",
   "metadata": {},
   "outputs": [],
   "source": [
    "data.shape\n"
   ]
  },
  {
   "cell_type": "code",
   "execution_count": null,
   "id": "41b12ccb-f223-4045-9e63-a5b59e6d32b6",
   "metadata": {},
   "outputs": [],
   "source": [
    "print(data[1,4])"
   ]
  },
  {
   "cell_type": "markdown",
   "id": "ac4d83c0-ce9b-4234-9702-58d356775e98",
   "metadata": {},
   "source": [
    "## Creating color RGB images"
   ]
  },
  {
   "cell_type": "code",
   "execution_count": null,
   "id": "0e82c122-d0de-49f0-8504-594191eb361d",
   "metadata": {},
   "outputs": [],
   "source": [
    "import numpy as np\n",
    "import matplotlib.pyplot as plt\n",
    "from astropy.visualization import make_lupton_rgb\n",
    "from astropy.utils.data import get_pkg_data_filename\n"
   ]
  },
  {
   "cell_type": "code",
   "execution_count": null,
   "id": "025ec0bf-f424-4b60-b4c8-c0b77a92af2f",
   "metadata": {},
   "outputs": [],
   "source": [
    "rng = np.random.default_rng()\n"
   ]
  },
  {
   "cell_type": "code",
   "execution_count": null,
   "id": "2c6b4b8e-d018-4e37-9304-4b466026b1ca",
   "metadata": {},
   "outputs": [],
   "source": [
    "image_r = rng.random((100,100))\n",
    "image_g = rng.random((100,100))\n",
    "image_b = rng.random((100,100))\n"
   ]
  },
  {
   "cell_type": "code",
   "execution_count": null,
   "id": "7b5a855b-5520-4534-afe0-d15320900d67",
   "metadata": {},
   "outputs": [],
   "source": [
    "image = make_lupton_rgb(image_r, image_g, image_b, stretch=0.5)\n"
   ]
  },
  {
   "cell_type": "code",
   "execution_count": null,
   "id": "b9e5541b-d40a-4cb2-ad2d-cda8cb57083f",
   "metadata": {},
   "outputs": [],
   "source": [
    "fig, ax = plt.subplots()\n",
    "ax.imshow(image)"
   ]
  },
  {
   "cell_type": "markdown",
   "id": "9ec86c69-f1f9-442c-8afd-2f564ac4d78c",
   "metadata": {},
   "source": [
    "### Hickson 88 group"
   ]
  },
  {
   "cell_type": "code",
   "execution_count": null,
   "id": "f0787ef1-de9e-4180-a28b-c8c66a6e02bc",
   "metadata": {},
   "outputs": [],
   "source": [
    "# Read in the three images downloaded from here:\n",
    "g_name = get_pkg_data_filename('visualization/reprojected_sdss_g.fits.bz2')\n",
    "r_name = get_pkg_data_filename('visualization/reprojected_sdss_r.fits.bz2')\n",
    "i_name = get_pkg_data_filename('visualization/reprojected_sdss_i.fits.bz2')\n"
   ]
  },
  {
   "cell_type": "code",
   "execution_count": null,
   "id": "46697624-eabe-4288-afdc-9477ecb15f69",
   "metadata": {},
   "outputs": [],
   "source": [
    "g = fits.getdata(g_name)\n",
    "r = fits.getdata(r_name)\n",
    "i = fits.getdata(i_name)\n",
    "\n"
   ]
  },
  {
   "cell_type": "code",
   "execution_count": null,
   "id": "c948a71a-e2c7-40a4-a928-fb4be42bbe8a",
   "metadata": {},
   "outputs": [],
   "source": [
    "rgb_default = make_lupton_rgb(i, r, g, filename=\"ngc6976-default.jpeg\")\n"
   ]
  },
  {
   "cell_type": "code",
   "execution_count": null,
   "id": "c66fbd0f-8e2b-4854-9941-ca85cf9f2fb3",
   "metadata": {},
   "outputs": [],
   "source": [
    "fig, ax = plt.subplots()\n",
    "ax.imshow(rgb_default, origin='lower')"
   ]
  },
  {
   "cell_type": "code",
   "execution_count": null,
   "id": "09315742-069b-4550-8cf8-ba39cd0c8769",
   "metadata": {},
   "outputs": [],
   "source": [
    "# correction\n",
    "\n",
    "rgb = make_lupton_rgb(i, r, g, Q=10, stretch=0.5, filename=\"ngc6976.jpeg\")\n",
    "fig, ax = plt.subplots()\n",
    "ax.imshow(rgb, origin='lower')"
   ]
  },
  {
   "cell_type": "markdown",
   "id": "8d441b88-e1b1-4efc-b038-302dd8c6c036",
   "metadata": {},
   "source": [
    "Plotting Eagle nebula"
   ]
  },
  {
   "cell_type": "code",
   "execution_count": null,
   "id": "72d7a4d7-bbc3-4b1b-8826-b7760b3508da",
   "metadata": {},
   "outputs": [],
   "source": []
  },
  {
   "cell_type": "code",
   "execution_count": null,
   "id": "1a3c4578-b859-4c12-bdad-449398e9d8ef",
   "metadata": {},
   "outputs": [],
   "source": []
  },
  {
   "cell_type": "code",
   "execution_count": null,
   "id": "0a2af989-2780-4206-87d0-745ea6f8a885",
   "metadata": {},
   "outputs": [],
   "source": []
  },
  {
   "cell_type": "code",
   "execution_count": null,
   "id": "81e2d28c-ec63-43b9-968d-171e6e8dc638",
   "metadata": {},
   "outputs": [],
   "source": []
  },
  {
   "cell_type": "code",
   "execution_count": null,
   "id": "536dbd25-c300-4f8b-b3de-de068f484999",
   "metadata": {},
   "outputs": [],
   "source": []
  },
  {
   "cell_type": "code",
   "execution_count": null,
   "id": "db7aa8b5-6461-4f56-b250-1721baac4e27",
   "metadata": {},
   "outputs": [],
   "source": []
  },
  {
   "cell_type": "code",
   "execution_count": null,
   "id": "6af259f1-08e0-4717-ab76-09b1f597a9ea",
   "metadata": {},
   "outputs": [],
   "source": []
  },
  {
   "cell_type": "code",
   "execution_count": null,
   "id": "3acbbe3e-64cc-4aa2-af78-c022fa9ba46d",
   "metadata": {},
   "outputs": [],
   "source": []
  },
  {
   "cell_type": "code",
   "execution_count": null,
   "id": "f6a3cee1-f361-40c1-a7bb-5973e3eb5c76",
   "metadata": {},
   "outputs": [],
   "source": []
  },
  {
   "cell_type": "code",
   "execution_count": null,
   "id": "254cbf77-9214-49c5-a0e7-e3c54d85b0b7",
   "metadata": {},
   "outputs": [],
   "source": []
  },
  {
   "cell_type": "code",
   "execution_count": null,
   "id": "68dfca41-19a0-4bb2-9e91-068c467d4e6d",
   "metadata": {},
   "outputs": [],
   "source": []
  },
  {
   "cell_type": "code",
   "execution_count": null,
   "id": "cc6c4d94-52f3-43fb-ae75-f24b47113fe4",
   "metadata": {},
   "outputs": [],
   "source": []
  },
  {
   "cell_type": "markdown",
   "id": "a01d3c51-3e34-4988-83b8-5f189c81c61f",
   "metadata": {},
   "source": [
    "# Practice codes\n"
   ]
  },
  {
   "cell_type": "code",
   "execution_count": null,
   "id": "bcb3956c-ea0b-45fa-9c66-bcfc2c0d6926",
   "metadata": {},
   "outputs": [],
   "source": [
    "import pandas as pd\n",
    "import matplotlib.pyplot as plt\n",
    "\n"
   ]
  },
  {
   "cell_type": "code",
   "execution_count": null,
   "id": "f4b4a3a5-12bb-46d8-ac77-bad6ae927f34",
   "metadata": {},
   "outputs": [],
   "source": [
    "# ## 1. Load Star Data\n",
    "stars = pd.DataFrame({\n",
    "    'Name': ['Sirius', 'Betelgeuse', 'Sun', 'Vega'],\n",
    "    'Color': ['Blue', 'Red', 'Yellow', 'Blue-white'],\n",
    "    'Temp': [9940, 3500, 5778, 9602],\n",
    "    'Size': [1.7, 887, 1, 2.3]  # Solar radii\n",
    "})\n",
    "print(\"Star Data:\\n\", stars)\n"
   ]
  },
  {
   "cell_type": "code",
   "execution_count": null,
   "id": "9bfe442b-f713-48c3-96b6-7bd36bb663d0",
   "metadata": {},
   "outputs": [],
   "source": [
    "\n",
    "# ## 2. Star Temperature Graph\n",
    "plt.bar(stars['Name'], stars['Temp'], \n",
    "        color=['blue', 'red', 'yellow', 'lightblue'])\n",
    "plt.title(\"Star Temperatures (K)\")\n",
    "plt.show()\n",
    "\n"
   ]
  },
  {
   "cell_type": "code",
   "execution_count": null,
   "id": "ef23343d-f155-44c9-a32f-ab8447a1df66",
   "metadata": {},
   "outputs": [],
   "source": [
    "# ## 3. Size Comparison\n",
    "plt.barh(stars['Name'], stars['Size'], \n",
    "         color=['blue', 'red', 'yellow', 'lightblue'])\n",
    "plt.title(\"Star Sizes (Sun=1)\")\n",
    "plt.show()\n"
   ]
  },
  {
   "cell_type": "code",
   "execution_count": null,
   "id": "8b079904-6c47-42eb-8dcc-34b136674aa3",
   "metadata": {},
   "outputs": [],
   "source": [
    "\n",
    "# ## 4. Classify by Color\n",
    "for name, color in zip(stars['Name'], stars['Color']):\n",
    "    if 'blue' in color.lower():\n",
    "        print(f\"{name} is a hot star!\")\n",
    "    elif 'red' in color.lower():\n",
    "        print(f\"{name} is a cool giant star!\")\n",
    "    else:\n",
    "        print(f\"{name} is a medium star.\")\n",
    "\n"
   ]
  },
  {
   "cell_type": "code",
   "execution_count": null,
   "id": "3fbaaee3-32fe-4aa6-a042-f9e70301f69d",
   "metadata": {},
   "outputs": [],
   "source": [
    "# ## 5. Add Your Own Star\n",
    "your_star = {\n",
    "    'Name': input(\"Name your star: \"),\n",
    "    'Color': input(\"What color? \"),\n",
    "    'Temp': np.random.randint(3000, 20000),\n",
    "    'Size': np.random.uniform(0.1, 1000)\n",
    "}\n",
    "stars = stars.append(your_star, ignore_index=True)\n"
   ]
  },
  {
   "cell_type": "code",
   "execution_count": null,
   "id": "79492f78-d2ef-4bb0-b152-ad28847eb13e",
   "metadata": {},
   "outputs": [],
   "source": [
    "\n",
    "# ## 6. Plot All Stars\n",
    "plt.figure(figsize=(10,5))\n",
    "plt.subplot(1,2,1)\n",
    "plt.bar(stars['Name'], stars['Temp'], \n",
    "        color=stars['Color'].str.lower())\n",
    "plt.title(\"Temperatures\")\n",
    "plt.xticks(rotation=45)\n"
   ]
  },
  {
   "cell_type": "code",
   "execution_count": null,
   "id": "d618afc8-af06-4808-a2df-3b465d3db34b",
   "metadata": {},
   "outputs": [],
   "source": [
    "\n",
    "plt.subplot(1,2,2)\n",
    "plt.bar(stars['Name'], stars['Size'], \n",
    "        color=stars['Color'].str.lower())\n",
    "plt.title(\"Sizes\")\n",
    "plt.xticks(rotation=45)\n",
    "plt.tight_layout()\n",
    "plt.show()\n"
   ]
  },
  {
   "cell_type": "code",
   "execution_count": null,
   "id": "4235c467-2fc8-4ee4-8452-0a0e58204dc3",
   "metadata": {},
   "outputs": [],
   "source": [
    "\n",
    "# ## 7. Save Your Research\n",
    "stars.to_csv('my_star_catalog.csv', index=False)\n",
    "print(\"Star catalog saved!\")\n"
   ]
  },
  {
   "cell_type": "code",
   "execution_count": null,
   "id": "774e1f19-423d-4fe6-8e99-e06b2f61c894",
   "metadata": {},
   "outputs": [],
   "source": [
    "\n",
    "# ## 8. Make a Star Certificate\n",
    "print(\"\\n⭐=== STAR CERTIFICATE ===⭐\")\n",
    "print(f\"Official discoverer: {input('Your name: ')}\")\n",
    "print(f\"Star name: {your_star['Name']}\")\n",
    "print(f\"Special features: {your_star['Color']} color\")\n",
    "print(\"Congratulations on your discovery!\\n\")\n"
   ]
  },
  {
   "cell_type": "code",
   "execution_count": null,
   "id": "d82f9a99-611c-4a96-8325-2f2f066924e4",
   "metadata": {},
   "outputs": [],
   "source": [
    "\n",
    "# ## 9. Comment Card\n",
    "print(\"Please rate this space adventure!\")\n",
    "for i in range(1,6):\n",
    "    print(f\"{i} {'★'*i}\")\n",
    "rating = input(\"Your rating (1-5): \")\n",
    "print(f\"Thanks for your {rating}-star rating!\")\n"
   ]
  },
  {
   "cell_type": "code",
   "execution_count": null,
   "id": "2bf41e07-ab0b-46b4-9dd5-c941cfedf1fa",
   "metadata": {},
   "outputs": [],
   "source": [
    "\n",
    "# ## 10. Space Certificate\n",
    "plt.figure(figsize=(8,6))\n",
    "plt.text(0.5, 0.7, \"CERTIFICATE\\nSpace Explorer\", \n",
    "         ha='center', size=20)\n",
    "plt.text(0.5, 0.5, f\"Awarded to:\\n{input('Your name: ')}\", \n",
    "         ha='center', size=15)\n",
    "plt.text(0.5, 0.3, \"For completing VASCSC Astropython 2025 training!\", \n",
    "         ha='center', size=12)\n",
    "plt.axis('off')\n",
    "plt.show()"
   ]
  },
  {
   "cell_type": "code",
   "execution_count": null,
   "id": "a1c8f21e-5f36-4702-a6d7-8cb84f3d9ef7",
   "metadata": {},
   "outputs": [],
   "source": []
  }
 ],
 "metadata": {
  "kernelspec": {
   "display_name": "Python 3 (ipykernel)",
   "language": "python",
   "name": "python3"
  },
  "language_info": {
   "codemirror_mode": {
    "name": "ipython",
    "version": 3
   },
   "file_extension": ".py",
   "mimetype": "text/x-python",
   "name": "python",
   "nbconvert_exporter": "python",
   "pygments_lexer": "ipython3",
   "version": "3.9.21"
  }
 },
 "nbformat": 4,
 "nbformat_minor": 5
}
