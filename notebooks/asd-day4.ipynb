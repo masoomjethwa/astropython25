{
 "cells": [
  {
   "cell_type": "markdown",
   "id": "66b60264-d474-4fa4-9fb9-0c1987109b1d",
   "metadata": {},
   "source": [
    "# Day 4: Stellar classification   🚀\n",
    "## Today we'll anaysle star data from space telescope!\n"
   ]
  },
  {
   "cell_type": "code",
   "execution_count": null,
   "id": "b707bf39-df7e-459c-b94e-2b03383e5c23",
   "metadata": {},
   "outputs": [],
   "source": [
    "from astropy import units as u \n",
    "light_year = 1 * u.lightyear \n",
    "print(light_year.to(u.kilometer))"
   ]
  },
  {
   "cell_type": "code",
   "execution_count": null,
   "id": "b97a1bd4-bcb1-4592-b50b-bb00c79fe2a0",
   "metadata": {},
   "outputs": [],
   "source": [
    "angle = 90 * u.degree \n",
    "print(angle.to(u.radian))"
   ]
  },
  {
   "cell_type": "code",
   "execution_count": null,
   "id": "756b3cfa-5193-48e3-8076-da8779cd2768",
   "metadata": {},
   "outputs": [],
   "source": [
    "time_angle = 2 * u.hourangle \n",
    "print(time_angle.to(u.degree))"
   ]
  },
  {
   "cell_type": "code",
   "execution_count": null,
   "id": "4e1d931a-8752-4cf0-96dc-697b87ccf907",
   "metadata": {},
   "outputs": [],
   "source": [
    "import pandas as pd \n",
    "import numpy as np\n",
    "import matplotlib.pyplot as plt\n",
    "import seaborn as sns\n",
    "import plotly.express as px\n",
    "#warning.filterwarnings('ignore')\n",
    "print(\"import successfull\")"
   ]
  },
  {
   "cell_type": "code",
   "execution_count": null,
   "id": "bd572a76-66a0-4d73-ae34-d6ef47f486bd",
   "metadata": {},
   "outputs": [],
   "source": [
    "data= pd.read_csv(\"star_classification.csv\")\n",
    "data"
   ]
  },
  {
   "cell_type": "code",
   "execution_count": null,
   "id": "8bdfdb75-3822-4c98-a78d-455f95d0f893",
   "metadata": {},
   "outputs": [],
   "source": [
    "data.info()"
   ]
  },
  {
   "cell_type": "markdown",
   "id": "e0f76eb6-ad2b-4283-93e7-53a8331e8a3e",
   "metadata": {},
   "source": [
    "# Stellar Classification for Beginners\n",
    "\n",
    "| Column Name  | Kid-Friendly Explanation | Example/Values |\n",
    "|--------------|--------------------------|-----------------|\n",
    "| obj_ID       | A special number given to each star (like a name tag) | 12345.678 |\n",
    "| alpha        | The star's position left/right in the sky (like on a map) | 15.231 degrees |\n",
    "| delta        | The star's position up/down in the sky | -0.523 degrees |\n",
    "| u, g, r, i, z | Colors of the star seen through different color filters (like camera filters) | u=18.34, g=16.21 |\n",
    "| run_ID       | Which telescope scan found this star | 1234 |\n",
    "| cam_col      | Which camera took the picture (1-6) | 3 |\n",
    "| field_ID     | Which part of the sky was photographed | 512 |\n",
    "| class        | What type of object it is (most important!) | \"STAR\", \"GALAXY\", \"QSO\" |\n",
    "| redshift     | How fast the star is moving away from us (bigger = faster) | 0.124 |\n",
    "| plate        | Which metal plate was used to study the star's light | 4567 |\n",
    "| fiber_ID     | Which tiny cable collected the star's light (1-1000) | 42 |\n",
    "\n",
    "## What \"Class\" Means (The Most Exciting Part!)\n",
    "\n",
    "- **STAR**: A twinkling sun like our own (but maybe different color!)\n",
    "- **GALAXY**: A huge group of billions of stars (like our Milky Way!)\n",
    "- **QSO**: A super bright galaxy with a black hole in the center (the brightest objects in space!)"
   ]
  },
  {
   "cell_type": "code",
   "execution_count": null,
   "id": "deb2b516-77d1-40c3-a05b-a5e759b4763e",
   "metadata": {},
   "outputs": [],
   "source": [
    "data.head"
   ]
  },
  {
   "cell_type": "code",
   "execution_count": null,
   "id": "fe4e224a-bf0c-4936-a84c-5a069a88c78a",
   "metadata": {},
   "outputs": [],
   "source": [
    "data.describe().T"
   ]
  },
  {
   "cell_type": "code",
   "execution_count": null,
   "id": "f0ca6d70-cb0d-4670-a061-b31ca296e7ff",
   "metadata": {},
   "outputs": [],
   "source": [
    "df=data.copy()\n",
    "df"
   ]
  },
  {
   "cell_type": "code",
   "execution_count": null,
   "id": "28aef396-a692-4db9-a4fa-bb77e8041fa2",
   "metadata": {},
   "outputs": [],
   "source": [
    "df.isnull().sum()\n"
   ]
  },
  {
   "cell_type": "code",
   "execution_count": null,
   "id": "d29a530e-3472-419d-802e-143b07e3a64b",
   "metadata": {},
   "outputs": [],
   "source": [
    "df['class'].value_counts()"
   ]
  },
  {
   "cell_type": "code",
   "execution_count": null,
   "id": "498fae7d-d658-4f58-879d-dfbfb688493a",
   "metadata": {},
   "outputs": [],
   "source": [
    "b=sns.countplot(x= 'class' ,data = df ,palette='coolwarm')\n",
    "plt.show()"
   ]
  },
  {
   "cell_type": "code",
   "execution_count": null,
   "id": "b179b74e-d528-44ae-8ab1-c749a2383848",
   "metadata": {},
   "outputs": [],
   "source": [
    "df.hist(bins = 10 , figsize= (14,14))\n",
    "plt.show()"
   ]
  },
  {
   "cell_type": "code",
   "execution_count": null,
   "id": "1290d569-8964-4093-b6c7-1abcea0f4b52",
   "metadata": {},
   "outputs": [],
   "source": [
    "df.columns"
   ]
  },
  {
   "cell_type": "code",
   "execution_count": null,
   "id": "68f41df1-89cd-4140-a522-ad851395fe33",
   "metadata": {},
   "outputs": [],
   "source": [
    "from astropy.Coordinates import skyCoord\n",
    "import"
   ]
  },
  {
   "cell_type": "code",
   "execution_count": null,
   "id": "bb6b8ba2-3878-4702-8443-e69af6aa72c8",
   "metadata": {},
   "outputs": [],
   "source": [
    "from astropy.coordinates import SkyCoord\n",
    "import astropy.units as u\n",
    "import matplotlib.pyplot as plt\n",
    "import numpy as np"
   ]
  },
  {
   "cell_type": "code",
   "execution_count": null,
   "id": "6f22174f-333f-4de2-91a0-474c41eb8758",
   "metadata": {},
   "outputs": [],
   "source": [
    "df_clean = df[['alpha', 'delta']].dropna()"
   ]
  },
  {
   "cell_type": "code",
   "execution_count": null,
   "id": "f573302f-f84d-4285-ad64-232416d2dd3a",
   "metadata": {},
   "outputs": [],
   "source": [
    "df_clean = df_clean.astype(float)"
   ]
  },
  {
   "cell_type": "code",
   "execution_count": null,
   "id": "93832dfd-ecb7-4a9c-b76f-ca4a7a6b4117",
   "metadata": {},
   "outputs": [],
   "source": [
    "coords = SkyCoord (ra=df_clean['alpha'].values * u.degree,\n",
    "                  dec=df_clean['delta'].values * u.degree,\n",
    "                  frame='icrs')"
   ]
  },
  {
   "cell_type": "code",
   "execution_count": null,
   "id": "48cda958-ae51-4873-9b21-8567206fdc2e",
   "metadata": {},
   "outputs": [],
   "source": [
    "df.hist(bins = 10 , figsize= (14,14))\n",
    "plt.show()"
   ]
  },
  {
   "cell_type": "code",
   "execution_count": null,
   "id": "f2e27a98-845f-4517-a16e-671a7619313e",
   "metadata": {},
   "outputs": [],
   "source": [
    "fig = plt.figure(figsize=(10,10))\n",
    "ax = fig.add_subplot(111, projection='mollweide')"
   ]
  },
  {
   "cell_type": "code",
   "execution_count": null,
   "id": "cdeadb2d-f9bd-4d16-8a3c-f76be4bf7e99",
   "metadata": {},
   "outputs": [],
   "source": [
    "size = [s if s >= 0 else 0 for s in df['redshift']]"
   ]
  },
  {
   "cell_type": "code",
   "execution_count": null,
   "id": "bc60b1cb-4a44-4401-b728-ee623f0e4868",
   "metadata": {},
   "outputs": [],
   "source": [
    "fig = px.scatter(df, x='alpha', y='delta', color='class', size= size)"
   ]
  },
  {
   "cell_type": "code",
   "execution_count": null,
   "id": "4aae4116-6286-42c4-accb-14e099b285ae",
   "metadata": {},
   "outputs": [],
   "source": [
    "fig.update_layout(title='SDSS Spectroscopic Observation',\n",
    "                  xaxis_title='Right Ascension (deg)',\n",
    "                  yaxis_title='Declination (deg)')\n",
    "fig.show()"
   ]
  },
  {
   "cell_type": "code",
   "execution_count": null,
   "id": "948f2878-5250-461b-bbeb-ae0e8622c964",
   "metadata": {},
   "outputs": [],
   "source": [
    "fig = px.histogram(df, x=\"redshift\")\n",
    "fig.show()"
   ]
  },
  {
   "cell_type": "code",
   "execution_count": null,
   "id": "56e656da-c80c-42b1-91a7-ace86b804257",
   "metadata": {},
   "outputs": [],
   "source": [
    "sns.scatterplot(data=df, x=\"class\", y=\"redshift\")"
   ]
  },
  {
   "cell_type": "code",
   "execution_count": null,
   "id": "bfe8315e-2991-4991-8869-7c3f8c0f7489",
   "metadata": {},
   "outputs": [],
   "source": []
  }
 ],
 "metadata": {
  "kernelspec": {
   "display_name": "Python 3 (ipykernel)",
   "language": "python",
   "name": "python3"
  },
  "language_info": {
   "codemirror_mode": {
    "name": "ipython",
    "version": 3
   },
   "file_extension": ".py",
   "mimetype": "text/x-python",
   "name": "python",
   "nbconvert_exporter": "python",
   "pygments_lexer": "ipython3",
   "version": "3.9.21"
  }
 },
 "nbformat": 4,
 "nbformat_minor": 5
}
