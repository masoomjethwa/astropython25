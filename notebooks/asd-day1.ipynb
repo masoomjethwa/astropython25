{
 "cells": [
  {
   "cell_type": "markdown",
   "id": "ea72849d-925f-4783-a472-44f9f835eaed",
   "metadata": {},
   "source": [
    "# VASCSC ASTROpython - Astronomy with python 2025 \n"
   ]
  },
  {
   "cell_type": "markdown",
   "id": "451862b2-ec39-4529-b20e-b8b7e15bf248",
   "metadata": {},
   "source": [
    "## Day 1:  Python Basics 🚀"
   ]
  },
  {
   "cell_type": "code",
   "execution_count": null,
   "id": "56714d17-0cda-4f8c-b8e2-ce38eef9cb5d",
   "metadata": {},
   "outputs": [],
   "source": [
    "# Variables: Variables are like labeled containers.\n",
    "\n",
    "\n",
    "# This is a comment - Python ignores anything after the # symbol\n",
    "\n",
    "planet_name = \"Earth\"      \n",
    " # String (text)\n",
    "\n",
    "distance_from_sun = 149.6   \n",
    "# Float (decimal number)\n",
    "\n",
    "number_of_moons = 1         \n",
    "# Integer (whole number)\n",
    "\n",
    "has_life = True             \n",
    "# Boolean (True or False)\n",
    "\n"
   ]
  },
  {
   "cell_type": "code",
   "execution_count": null,
   "id": "55ad0afb-651a-4e6e-93c0-846eaf525075",
   "metadata": {},
   "outputs": [],
   "source": [
    "print(\"Planet:\", planet_name)\n",
    "\n",
    "print(\"Distance from Sun (million km):\", distance_from_sun)\n",
    "\n",
    "print(\"Number of moons:\", number_of_moons)\n",
    "\n",
    "print(\"Has life:\", has_life)"
   ]
  },
  {
   "cell_type": "code",
   "execution_count": null,
   "id": "8ad4e659-1530-4033-89fa-0bd739094941",
   "metadata": {},
   "outputs": [],
   "source": [
    "# Basic Math Operations\n",
    "\n",
    "\n",
    "\n",
    "# Addition\n",
    "mars_moons = 2\n",
    "jupiter_moons = 85\n",
    "total_moons = mars_moons + jupiter_moons\n",
    "print(\"Total moons:\", total_moons)"
   ]
  },
  {
   "cell_type": "code",
   "execution_count": null,
   "id": "5ffc2d58-2420-4dfc-83bd-9dfeb179fa49",
   "metadata": {},
   "outputs": [],
   "source": [
    "# Subtraction\n",
    "temp_diff = 430 - (-180) # Mercury day/night temp diff\n",
    "print(\"Temp difference:\", temp_diff)"
   ]
  },
  {
   "cell_type": "code",
   "execution_count": null,
   "id": "5b6a2dfa-b1c2-4f51-899a-3f58dab805ea",
   "metadata": {},
   "outputs": [],
   "source": [
    "# Multiplication\n",
    "light_speed = 299792 # km/s\n",
    "\n",
    "seconds_in_day = 86400\n",
    "\n",
    "light_distance = light_speed * seconds_in_day\n",
    "print(\"Light distance in a day:\", light_distance)"
   ]
  },
  {
   "cell_type": "code",
   "execution_count": null,
   "id": "e870f192-1f95-4c4f-9b92-c9b8d7288a41",
   "metadata": {},
   "outputs": [],
   "source": [
    "# Division\n",
    "venus_orbit_km = 680000000\n",
    "venus_orbit_days = 225\n",
    "venus_km_per_day = venus_orbit_km / venus_orbit_days\n",
    "print(\"Venus km per day:\", venus_km_per_day)"
   ]
  },
  {
   "cell_type": "code",
   "execution_count": null,
   "id": "e49d21c4-5944-4b82-be26-a012420df0d0",
   "metadata": {},
   "outputs": [],
   "source": [
    "# Exponentiation (**)\n",
    "radius = 6371 # Earth's radius\n",
    "earth_volume = (4/3) * 3.14159 * (radius ** 3)\n",
    "print(\"Earth volume:\", earth_volume)"
   ]
  },
  {
   "cell_type": "code",
   "execution_count": null,
   "id": "ea63035c-a101-493d-8645-651b4c766651",
   "metadata": {},
   "outputs": [],
   "source": [
    "# Integer division (//) - no remainder\n",
    "days = 365\n",
    "weeks = days // 7\n",
    "print(\"Complete weeks in year:\", weeks)"
   ]
  },
  {
   "cell_type": "code",
   "execution_count": null,
   "id": "87eae9bf-5f3b-4672-8871-1332e6f7a46d",
   "metadata": {},
   "outputs": [],
   "source": [
    "# Modulo (%) - only remainder\n",
    "remainder_days = days % 7\n",
    "print(\"Remaining days:\", remainder_days)"
   ]
  },
  {
   "cell_type": "code",
   "execution_count": null,
   "id": "2bdcdd7c-eb49-4f07-9e82-3ea3b66e0535",
   "metadata": {},
   "outputs": [],
   "source": [
    "# Order of operations (PEMDAS)\n",
    "avg_dist = (149.6 + 227.9 + 778.5) / 3\n",
    "print(\"Avg distance (E, M, J):\", avg_dist)"
   ]
  },
  {
   "cell_type": "markdown",
   "id": "303d3523-2459-4c7e-a6be-985f92b24e57",
   "metadata": {},
   "source": [
    "## Data Types \n",
    " - Different kinds of information Python handles.\n"
   ]
  },
  {
   "cell_type": "code",
   "execution_count": null,
   "id": "27e3f947-214b-4724-97bb-72a3ab6ff0a7",
   "metadata": {},
   "outputs": [],
   "source": [
    "# Strings (text)\n",
    "star_name = \"Betelgeuse\"\n",
    "print(\"Star name:\", star_name)\n",
    "print(\"Number of letters:\", len(star_name))"
   ]
  },
  {
   "cell_type": "code",
   "execution_count": null,
   "id": "b07a9449-1875-48b7-a07a-c1d027315434",
   "metadata": {},
   "outputs": [],
   "source": [
    "# Integers (whole numbers)\n",
    "light_years = 642\n",
    "print(\"Distance (light years):\", light_years)\n"
   ]
  },
  {
   "cell_type": "code",
   "execution_count": null,
   "id": "6e0caa77-6d40-495e-96e5-72635fd431fe",
   "metadata": {},
   "outputs": [],
   "source": [
    "# Floats (decimal numbers)\n",
    "star_temperature = 3500.5\n",
    "print(\"Star temperature (K):\", star_temperature)\n"
   ]
  },
  {
   "cell_type": "code",
   "execution_count": null,
   "id": "30ef74f9-4260-4fd6-8d36-874fe02b6039",
   "metadata": {},
   "outputs": [],
   "source": [
    "# Booleans (True/False)\n",
    "is_supergiant = True\n",
    "print(\"Is it a supergiant?\", is_supergiant)\n"
   ]
  },
  {
   "cell_type": "code",
   "execution_count": null,
   "id": "e09ab56d-d548-4253-b367-5c98e110f51f",
   "metadata": {},
   "outputs": [],
   "source": [
    "# Collections of items: LIST\n",
    "\n",
    "\n",
    "# Lists (ordered collection)\n",
    "planets = [\"Mercury\", \"Venus\", \"Earth\", \"Mars\",\n",
    "           \"Jupiter\", \"Saturn\", \"Uranus\", \"Neptune\"]\n",
    "print(\"Planets:\", planets)\n",
    "# Access items by index (starts at 0)\n",
    "print(\"Third planet:\", planets[2]) # Earth\n"
   ]
  },
  {
   "cell_type": "code",
   "execution_count": null,
   "id": "8792a044-4bf0-460e-8494-d49121f3e13d",
   "metadata": {},
   "outputs": [],
   "source": [
    " # Basic String Operations  - Working with text.\n",
    "\n",
    "# Joining strings (concatenation)\n",
    "first_name = \"Neil\"\n",
    "last_name = \"Armstrong\"\n",
    "full_name = first_name + \" \" + last_name\n",
    "print(full_name)"
   ]
  },
  {
   "cell_type": "code",
   "execution_count": null,
   "id": "39c354cf-7941-459b-80de-668e0d778888",
   "metadata": {},
   "outputs": [],
   "source": [
    "# Converting to uppercase\n",
    "print(\"In radio:\", full_name.upper())\n"
   ]
  },
  {
   "cell_type": "code",
   "execution_count": null,
   "id": "07a1ca29-a3b9-42c2-8687-8f4c05ede306",
   "metadata": {},
   "outputs": [],
   "source": [
    "# Finding position\n",
    "message = \"Houston, we have a problem\"\n",
    "print(\"'problem' position:\", message.find(\"problem\"))\n"
   ]
  },
  {
   "cell_type": "code",
   "execution_count": null,
   "id": "85b4fef8-5946-4ea2-a9db-9e420ba19ed0",
   "metadata": {},
   "outputs": [],
   "source": [
    "# Replacing parts\n",
    "print(message.replace(\"problem\", \"solution\"))\n"
   ]
  },
  {
   "cell_type": "code",
   "execution_count": null,
   "id": "7f1c179a-c2d8-4305-b342-60df2a6d7104",
   "metadata": {},
   "outputs": [],
   "source": [
    "# Input: Getting User Information - Make interactive lines of codes !\n",
    "\n",
    "# Get text input\n",
    "favorite_planet = input(\"What's your favorite planet? \")\n",
    "print(\"Cool! \" + favorite_planet + \" is amazing!\")\n"
   ]
  },
  {
   "cell_type": "code",
   "execution_count": null,
   "id": "779db6a4-e4ae-415c-a43d-9117e04823d0",
   "metadata": {},
   "outputs": [],
   "source": [
    "# `input()` always returns a string. \n",
    "# Convert with `int()` or `float()`!\n",
    "\n",
    "\n",
    "# Get number input (need conversion!)\n",
    "age_str = input(\"How old are you? \")\n",
    "print(\"Type before conversion:\", type(age_str))\n"
   ]
  },
  {
   "cell_type": "code",
   "execution_count": null,
   "id": "800f6085-ac4e-4c99-91d3-b5ce189626f5",
   "metadata": {},
   "outputs": [],
   "source": [
    "age_int = int(age_str) # Convert string to integer\n",
    "print(\"Type after conversion:\", type(age_int))\n"
   ]
  },
  {
   "cell_type": "code",
   "execution_count": null,
   "id": "926921f4-eb5c-4144-905e-1e802107f900",
   "metadata": {},
   "outputs": [],
   "source": [
    "# Use float() for decimals\n",
    "weight_earth = float(input(\"Your weight (kg): \"))\n",
    "weight_moon = weight_earth * 0.166\n",
    "print(f\"On Moon: {weight_moon:.1f} kg\")\n"
   ]
  },
  {
   "cell_type": "code",
   "execution_count": null,
   "id": "da7504d3-40c1-40bf-9f72-6909a84c48f6",
   "metadata": {},
   "outputs": [],
   "source": [
    "# Making Decisions with If Statements - Control program flow based on conditions.\n",
    "\n",
    "\n",
    "# Check for rings\n",
    "planet = input(\"Planet name: \").lower()\n",
    "if planet == \"saturn\" or planet == \"uranus\" or \\\n",
    "   planet == \"neptune\" or planet == \"jupiter\":\n",
    "    print(planet.capitalize(), \"has rings! 💫\")\n",
    "else:\n",
    "    print(planet.capitalize(), \"doesn't have prominent rings.\")"
   ]
  },
  {
   "cell_type": "code",
   "execution_count": null,
   "id": "605f3104-021e-4e36-a6d1-e760df81a6c0",
   "metadata": {},
   "outputs": [],
   "source": [
    "# Making Decisions with If Statements (Cont.) \n",
    "\n",
    "# **Indentation matters!** Code under `if`/`elif`/`else` runs when the condition is true.\n",
    "\n",
    "\n",
    "# Temperature example:\n",
    "\n",
    "\n",
    "# Check temperature\n",
    "temperature = float(input(\"Temp in Celsius: \"))\n",
    "if temperature < 0:\n",
    "    print(\"Below freezing!\")\n",
    "elif temperature < 100:\n",
    "    print(\"Liquid water possible!\")\n",
    "else:\n",
    "    print(\"Above boiling!\")"
   ]
  },
  {
   "cell_type": "code",
   "execution_count": null,
   "id": "40195d94-a38b-43c1-a012-4ceb1247dca4",
   "metadata": {},
   "outputs": [],
   "source": [
    "# Loops: Doing Things Repeatedly\n",
    "# for loop  - Repeat actions easily.\n",
    "\n",
    "\n",
    "# For loop (counting down)\n",
    "print(\"Countdown:\")\n",
    "for i in range(10, 0, -1):\n",
    "    print(i)\n",
    "print(\"Liftoff! 🚀\")"
   ]
  },
  {
   "cell_type": "code",
   "execution_count": null,
   "id": "7cd2a536-72ac-44e9-b719-5e34354d031c",
   "metadata": {},
   "outputs": [],
   "source": [
    "# for loop\n",
    "\n",
    "#For loop (through a list)\n",
    "print(\"\\nPlanets:\")\n",
    "planets = [\"Mercury\", \"Venus\", \"Earth\", \"Mars\"]\n",
    "for planet in planets:\n",
    "    print(\"- \" + planet)"
   ]
  },
  {
   "cell_type": "code",
   "execution_count": null,
   "id": "100e4a16-2fee-4589-9a8a-5bb1457d7b6e",
   "metadata": {},
   "outputs": [],
   "source": [
    "# example codes for practice"
   ]
  },
  {
   "cell_type": "code",
   "execution_count": null,
   "id": "e1b5d980-8ec9-44ff-8d46-05bee8f224ee",
   "metadata": {},
   "outputs": [],
   "source": [
    "# ## 1. Our First Space Message\n",
    "print(\"Hello future astronaut! 🌟\")\n",
    "\n"
   ]
  },
  {
   "cell_type": "code",
   "execution_count": null,
   "id": "ff409555-7c50-4f39-8f75-f9a23940bbac",
   "metadata": {},
   "outputs": [],
   "source": [
    "# ## 2. Counting Moons\n",
    "jupiter_moons = 95\n",
    "print(f\"Jupiter has {jupiter_moons} moons!\")\n",
    "\n"
   ]
  },
  {
   "cell_type": "code",
   "execution_count": null,
   "id": "021f7cc6-8219-4cba-b5fc-086cb059d1d2",
   "metadata": {},
   "outputs": [],
   "source": [
    "# ## 3. Planet Temperatures\n",
    "mars_temp = -63  # Celsius\n",
    "print(f\"Mars is {mars_temp}°C - brrr! ❄️\")\n"
   ]
  },
  {
   "cell_type": "code",
   "execution_count": null,
   "id": "435d8120-03b5-4d16-bf0b-468599f3433a",
   "metadata": {},
   "outputs": [],
   "source": [
    "\n",
    "# ## 4. Rocket Speed Calculation\n",
    "distance = 384400  # Moon distance in km\n",
    "time = 72  # hours\n",
    "speed = distance / time\n",
    "print(f\"Our rocket flies at {speed:.0f} km/h! 🚀\")\n",
    "\n"
   ]
  },
  {
   "cell_type": "code",
   "execution_count": null,
   "id": "62429a60-dc22-4070-bf45-77075e3a444f",
   "metadata": {},
   "outputs": [],
   "source": [
    "# ## 5. Planet List\n",
    "planets = [\"Mercury\", \"Venus\", \"Earth\", \"Mars\"]\n",
    "print(\"The rocky planets are:\")\n",
    "for planet in planets:\n",
    "    print(f\"★ {planet}\")\n",
    "\n"
   ]
  },
  {
   "cell_type": "code",
   "execution_count": null,
   "id": "2e08ee59-3d2d-488f-9ce3-545c85d1be0d",
   "metadata": {},
   "outputs": [],
   "source": [
    "# ## 6. Alien Greeting\n",
    "alien_name = \"Zorg\"\n",
    "print(f\"Hello {alien_name * 3}! 👽👽👽\")\n",
    "\n"
   ]
  },
  {
   "cell_type": "code",
   "execution_count": null,
   "id": "2a03211b-9a1e-4cde-afe8-5b4be7a275e4",
   "metadata": {},
   "outputs": [],
   "source": [
    "# ## 7. Space Junk Check\n",
    "space_junk = 128\n",
    "if space_junk > 100:\n",
    "    print(\"Too much space junk! 🚮\")\n",
    "else:\n",
    "    print(\"Space is clean! ✨\")\n",
    "\n"
   ]
  },
  {
   "cell_type": "code",
   "execution_count": null,
   "id": "886ac3a7-4db9-441d-9888-ad5d5716a5ac",
   "metadata": {},
   "outputs": [],
   "source": [
    "# ## 8. Moon Weight Calculator\n",
    "earth_weight = 40  # kg\n",
    "moon_weight = earth_weight * 0.165\n",
    "print(f\"You weigh {moon_weight}kg on the Moon! 🌕\")\n",
    "\n"
   ]
  },
  {
   "cell_type": "code",
   "execution_count": null,
   "id": "a7967eee-d1c0-4f24-8641-01e3575615eb",
   "metadata": {},
   "outputs": [],
   "source": [
    "# ## 9. Counting Stars\n",
    "stars_in_sky = 5000  # Visible to naked eye\n",
    "for i in range(1, 6):\n",
    "    print(f\"I see {i * 1000} stars... ✨\")\n",
    "\n"
   ]
  },
  {
   "cell_type": "code",
   "execution_count": null,
   "id": "bf32a8e6-6784-4518-943f-880fb194cfd9",
   "metadata": {},
   "outputs": [],
   "source": [
    "# ## 10. Space Dictionary\n",
    "space_facts = {\n",
    "    \"Biggest planet\": \"Jupiter\",\n",
    "    \"Hottest planet\": \"Venus\",\n",
    "    \"Red planet\": \"Mars\"\n",
    "}\n",
    "print(\"Fun space facts:\")\n",
    "for fact, answer in space_facts.items():\n",
    "    print(f\"{fact}: {answer}\")"
   ]
  },
  {
   "cell_type": "code",
   "execution_count": null,
   "id": "7cf4aaee-2743-4ec8-9b3d-2b152b539593",
   "metadata": {},
   "outputs": [],
   "source": []
  }
 ],
 "metadata": {
  "kernelspec": {
   "display_name": "Python 3 (ipykernel)",
   "language": "python",
   "name": "python3"
  },
  "language_info": {
   "codemirror_mode": {
    "name": "ipython",
    "version": 3
   },
   "file_extension": ".py",
   "mimetype": "text/x-python",
   "name": "python",
   "nbconvert_exporter": "python",
   "pygments_lexer": "ipython3",
   "version": "3.9.21"
  }
 },
 "nbformat": 4,
 "nbformat_minor": 5
}
