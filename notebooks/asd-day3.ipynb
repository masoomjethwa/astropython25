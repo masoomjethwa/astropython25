{
 "cells": [
  {
   "cell_type": "markdown",
   "id": "8cccb04c-c3ae-43ba-9a9f-48a445a00d48",
   "metadata": {},
   "source": [
    "# Day 3 :  Astropy basics 🚀"
   ]
  },
  {
   "cell_type": "markdown",
   "id": "9d2c3a5d-7f5d-4d29-b366-fd4a70b092d3",
   "metadata": {},
   "source": [
    "## Asteroid Hunter Training 🛰️\n",
    "### Today we'll look at actual NASA data to classify asteroids!"
   ]
  },
  {
   "cell_type": "code",
   "execution_count": null,
   "id": "df6f3482-7028-4bf0-becf-a28e58c83f7d",
   "metadata": {},
   "outputs": [],
   "source": [
    "import numpy as np \n",
    "import pandas as pd \n",
    "import matplotlib.pyplot as plt\n",
    "import seaborn as sns "
   ]
  },
  {
   "cell_type": "markdown",
   "id": "cb7b12f5-51c7-4d0c-974e-d3deb0305d08",
   "metadata": {},
   "source": [
    "<a id='overview'></a>\n",
    "# Overview\n",
    "\n",
    "This notebook explores the [asteroid dataset](https://www.kaggle.com/datasets/sakhawat18/asteroid-dataset).\n",
    "\n",
    "My approach here is very rudimentary. My primary focus is ***not*** with data science per se; rather, I am simply using this dataset as venue for learning about asteroids.  For example, instead of using the matchine learning tools to make predictions based on the dataset, I am simply slicing-and-dicing the dataset, and then using the various internet resources for understanding the trends being seen.\n",
    "\n",
    "Several websites were aided me greatly in this endeavor\n",
    "* [JPL Small-Body Database Search Engine](https://ssd.jpl.nasa.gov/tools/sbdb_query.html)\n",
    "* [CNEOS - Center for Near-Earth-Object Studies](https://cneos.jpl.nasa.gov/)\n",
    "* [Windows to the Universe](https://www.windows2universe.org/our_solar_system/planets_orbits_table.html)\n",
    "* [The Planetary Mechanics Blob](http://planetary-mechanics.com/)\n",
    "\n",
    "Table of Contents:\n",
    "* [Overview](#overview)\n",
    "* [Setup and Useful Tools](#setup)\n",
    "* [Asteroid Classes](#classes)\n",
    "    - [Introduction](#classes_introduction)\n",
    "    - [Distribution Throughout the Solar System](#classes_distribution)\n",
    "    - [Milankovitch Cycles](#classes_milankovitch)\n",
    "    - [Mars Crossing Asteroids (MCA)](#classes_mca)\n",
    "* [Kirkwood Gaps](#kirkwood)\n",
    "    - [Overview](#kirkwood_overview)\n",
    "    - [Inner vs Inner; Outer vs Outer](#kirkwood_inner_vs_inner)\n",
    "* [Inclination from the Ecliptic](#inclination)\n",
    "    - [Overview](#inclination_overview)\n",
    "    - [Inner Main Belt Asteroids - the Hungaria](#inclination_hungaria)\n",
    "    - [Mars Crossing Asteroids](#inclination_mca)"
   ]
  },
  {
   "cell_type": "code",
   "execution_count": null,
   "id": "6007c911-4f3d-4503-8f11-7224302721e9",
   "metadata": {},
   "outputs": [],
   "source": [
    "df= pd.read_csv('asteroid_dataset.csv',low_memory=False)"
   ]
  },
  {
   "cell_type": "code",
   "execution_count": null,
   "id": "56656243-8431-4453-81eb-6d6adbd86a0f",
   "metadata": {},
   "outputs": [],
   "source": [
    "df.info()"
   ]
  },
  {
   "cell_type": "markdown",
   "id": "ec71d231-c7a9-4a64-9a34-db7d8a093f82",
   "metadata": {},
   "source": [
    "# Basic Terminology \n",
    "\n",
    "When describing an ellipse \n",
    "* $a$ is the semi-major axis\n",
    "* $b$ is the semi-minor axis\n",
    "* $e = \\sqrt{1-b^2/a^2}$ is the eccenticity of the ellipse\n",
    "* the eccentricity of a circle is 0; that of an ellipse is between 0 and 1 \n",
    "* $F_1$ and $F_2$ are the foci of the ellipse, located at $\\pm ea$\n",
    "\n",
    "With the simple two-body astronomical description of an orbit about the sun\n",
    "* orbits are typically bounded (elliptical) or unbounded (hyperbolic)\n",
    "* with elipitical orbits, the sun is located at one of the foci\n",
    "* an elliptical orbit's *perihelion* $= a*(1-e)$ is its point of closest approach to the sun\n",
    "* an elliptical orbit's *aphelion* $= a*(1+e)$ is its furthest point from the sun\n",
    "* an elliptical orbit's period (in years) is related to its semi-major axis (in AU) as $p^2 = a^3$ (Kepler's Third Law)\n",
    "\n",
    "*Note that the concept of eccentricity also applies to parabolas ($e = 1$) and hyperbolas ($e > 1$).*\n",
    "\n"
   ]
  },
  {
   "cell_type": "code",
   "execution_count": null,
   "id": "a13557db-0337-4bc6-ac7d-11dffcb61424",
   "metadata": {},
   "outputs": [],
   "source": [
    "df.describe()"
   ]
  },
  {
   "cell_type": "code",
   "execution_count": null,
   "id": "27d6e68f-65b3-4fa8-bceb-f9b2821c0fa9",
   "metadata": {},
   "outputs": [],
   "source": [
    "df.describe.T"
   ]
  },
  {
   "cell_type": "code",
   "execution_count": null,
   "id": "f2e95291-8e8d-44ae-818f-3f3a831fcd1a",
   "metadata": {},
   "outputs": [],
   "source": [
    "df.columns"
   ]
  },
  {
   "cell_type": "code",
   "execution_count": null,
   "id": "36742b01-ac51-4550-92bf-079c7f7e0513",
   "metadata": {},
   "outputs": [],
   "source": [
    "df.head()"
   ]
  },
  {
   "cell_type": "markdown",
   "id": "ab874804-db71-468a-8df2-656e7ff13433",
   "metadata": {},
   "source": [
    "<a id='classes'></a>\n",
    "# Asteroid Classes\n",
    "\n",
    "<a id='classes_introduction'></a>\n",
    "## Introduction\n",
    "One of the attributes of the asteroids in this dataset is an orbit *class* that appears to be quite interesting. The class is a three-character code which for me, at least, was a bit opaque. However, the [JPL Small-Body Database Search Engine](https://ssd.jpl.nasa.gov/tools/sbdb_query.html) provided a mechanism for converting the class code into an actual name for the orbit class, which could then be used for looking up a description in Wikipedia.  \n",
    "\n",
    "The following table provides a summary of the orbit class, ordered by the distance of said class from the sun:\n",
    "\n",
    "| Class | Name | Description |\n",
    "| --- | --- | --- |\n",
    "| IEO | [Arita](https://en.wikipedia.org/wiki/Atira_asteroid) | Resids wholly within the Earth's Orbit |\n",
    "| ATE | [Aten](https://en.wikipedia.org/wiki/Aten_asteroid) | Earth-crossing Asteroids, residing mostly within Earth's orbit|\n",
    "| APO | [Apollo](https://en.wikipedia.org/wiki/Apollo_asteroid) | Earth-Crossing Asteroids, residing mostly outside of Earth's Orbit |\n",
    "| AMO | [Amor](https://en.wikipedia.org/wiki/Amor_asteroid) | Near-Earth asteroid residing entirely outside of Earth's orbit |\n",
    "| MCA | [Mars Crossing Asteroid](https://en.wikipedia.org/wiki/List_of_Mars-crossing_minor_planets) | |\n",
    "| IMB | [Inner Main-belt Asteroid](https://en.wikipedia.org/wiki/Asteroid_belt) | see section on Kirkwood Gap |\n",
    "| MBA | [Main-belt Asteroid](https://en.wikipedia.org/wiki/Asteroid_belt) | see section on Kirkwood Gap |\n",
    "| OMB | [Outer Main-belt Asteroid](https://en.wikipedia.org/wiki/Asteroid_belt) | see section on Kirkwood Gap |\n",
    "| AST | Asteroid (other ) | |\n",
    "| TJN | [Jupiter Trojan](https://en.wikipedia.org/wiki/Jupiter_trojan) | Share Jupiter's orbit; reside at the L4 or L5 Lagrange Points |\n",
    "| CEN | [Centaur](https://en.wikipedia.org/wiki/Centaur_(small_Solar_System_body)) | A small solar system body between Jupiter and Neptune |\n",
    "| TNO | [TransNeptunian Object](https://en.wikipedia.org/wiki/Trans-Neptunian_object) | Any minor planet that orbits at a greater average distance than Neptune |\n",
    "| HYA | Hyberbolic Asteroid | |\n",
    "\n",
    "The breakdown of the asteroids in the dataset by orbit class is as follows:"
   ]
  },
  {
   "cell_type": "code",
   "execution_count": null,
   "id": "b71221a8-6795-42af-b38f-1f4cb9babde1",
   "metadata": {},
   "outputs": [],
   "source": [
    "df.tail"
   ]
  },
  {
   "cell_type": "code",
   "execution_count": null,
   "id": "25650d7a-25ac-4f51-9079-4e29c3362383",
   "metadata": {},
   "outputs": [],
   "source": [
    "df.shape"
   ]
  },
  {
   "cell_type": "code",
   "execution_count": null,
   "id": "9b544a55-df5c-465e-b978-7dd6e7422166",
   "metadata": {},
   "outputs": [],
   "source": [
    "nrows, ncol = df.shape \n",
    "print(\"no of rows:\"+str(nrows))\n",
    "print(\"no of columns\"+str(ncol))"
   ]
  },
  {
   "cell_type": "code",
   "execution_count": null,
   "id": "1539d3d4-2937-4997-9fef-06680a49925c",
   "metadata": {},
   "outputs": [],
   "source": [
    "df.isnull().sum()"
   ]
  },
  {
   "cell_type": "code",
   "execution_count": null,
   "id": "a1465175-c984-40dc-af42-608960e9cdcc",
   "metadata": {},
   "outputs": [],
   "source": [
    "#diameter analysis"
   ]
  },
  {
   "cell_type": "code",
   "execution_count": null,
   "id": "c1316b49-9ec3-4063-b1f9-2e3c4bd50a0c",
   "metadata": {},
   "outputs": [],
   "source": [
    "df['diameter'].hist( figsize = (5,5))"
   ]
  },
  {
   "cell_type": "code",
   "execution_count": null,
   "id": "7b384baf-b187-47cc-9c8c-f275d635a2c6",
   "metadata": {},
   "outputs": [],
   "source": [
    "df['diameter'].describe()"
   ]
  },
  {
   "cell_type": "markdown",
   "id": "fc72b7c5-5ef1-472c-b5ce-c2637470d106",
   "metadata": {},
   "source": [
    "## PRACTICE CODES"
   ]
  },
  {
   "cell_type": "code",
   "execution_count": null,
   "id": "3d197641-133e-4773-9269-afb825861a31",
   "metadata": {},
   "outputs": [],
   "source": [
    "\n",
    "\n",
    "from astropy.io import fits\n",
    "import matplotlib.pyplot as plt\n",
    "from astropy.visualization import simple_norm\n",
    "\n"
   ]
  },
  {
   "cell_type": "code",
   "execution_count": null,
   "id": "9c758498-037b-4355-b1ba-7ddb0c7b2a1c",
   "metadata": {},
   "outputs": [],
   "source": [
    "# ## 1. Load a Space Image\n",
    "image_data = fits.getdata('asteroid.fits')  # Sample image\n",
    "print(\"Image shape:\", image_data.shape)\n",
    "\n"
   ]
  },
  {
   "cell_type": "code",
   "execution_count": null,
   "id": "d323314a-09b8-4f7d-b803-73691174c2b2",
   "metadata": {},
   "outputs": [],
   "source": [
    "# ## 2. Show the Asteroid\n",
    "plt.imshow(image_data, cmap='gray')\n",
    "plt.colorbar(label='Brightness')\n",
    "plt.title(\"Asteroid Image\")\n",
    "plt.show()\n",
    "\n"
   ]
  },
  {
   "cell_type": "code",
   "execution_count": null,
   "id": "345f274e-fc14-4f16-9768-0ca5f4ad6c9c",
   "metadata": {},
   "outputs": [],
   "source": [
    "# ## 3. Make it Brighter\n",
    "norm = simple_norm(image_data, 'sqrt')\n",
    "plt.imshow(image_data, norm=norm, cmap='gray')\n",
    "plt.title(\"Enhanced View\")\n",
    "plt.show()\n",
    "\n"
   ]
  },
  {
   "cell_type": "code",
   "execution_count": null,
   "id": "8d654ac1-a9f3-48d9-aca7-710c5ef84021",
   "metadata": {},
   "outputs": [],
   "source": [
    "# ## 4. Asteroid Sizes\n",
    "sizes = {'Ceres': 939, 'Vesta': 525, 'Pallas': 512}\n",
    "plt.bar(sizes.keys(), sizes.values(), color='orange')\n",
    "plt.title(\"Biggest Asteroids (km)\")\n",
    "plt.show()"
   ]
  }
 ],
 "metadata": {
  "kernelspec": {
   "display_name": "Python 3 (ipykernel)",
   "language": "python",
   "name": "python3"
  },
  "language_info": {
   "codemirror_mode": {
    "name": "ipython",
    "version": 3
   },
   "file_extension": ".py",
   "mimetype": "text/x-python",
   "name": "python",
   "nbconvert_exporter": "python",
   "pygments_lexer": "ipython3",
   "version": "3.9.21"
  }
 },
 "nbformat": 4,
 "nbformat_minor": 5
}
