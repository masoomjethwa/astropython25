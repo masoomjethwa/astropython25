{
 "cells": [
  {
   "cell_type": "markdown",
   "id": "8e48e35d-d19c-42a3-9c84-1920a3ed38c0",
   "metadata": {},
   "source": [
    "# Day 2:  Learning Python Basics  Part 2 🚀\n"
   ]
  },
  {
   "cell_type": "markdown",
   "id": "a5545dd8-8d26-49f5-bf7a-4fc510b8d1b7",
   "metadata": {},
   "source": [
    "# Beyond Python Basics\n",
    "\n",
    "Introduction to Libraries\n",
    "\n",
    "Libraries like NumPy and Astropy provide powerful tools for science and astronomy.\n",
    "\n",
    "## Today we will learn:\n",
    "### Explore basic libraries `[numpy\\pandas\\matplotlib]`\n"
   ]
  },
  {
   "cell_type": "code",
   "execution_count": null,
   "id": "f395b29a-a9e0-4339-8bb6-e6b03316a176",
   "metadata": {},
   "outputs": [],
   "source": [
    "# NumPy Basics - Numerical Python - great for arrays and math.\n",
    "\n",
    "\n",
    "import numpy as np\n",
    "\n",
    "# Creating an array\n",
    "distances_au = np.array([0.39, 0.72, 1.0, 1.52,\n",
    "                         5.20, 9.58, 19.22, 30.05])\n",
    "print(\"Planet distances (AU):\", distances_au)\n"
   ]
  },
  {
   "cell_type": "code",
   "execution_count": null,
   "id": "d99d4aad-1919-4add-a7b7-13c3866de2c8",
   "metadata": {},
   "outputs": [],
   "source": [
    "# Basic operations\n",
    "print(\"Average distance:\", np.mean(distances_au))\n",
    "print(\"Max distance:\", np.max(distances_au))\n",
    "print(\"Min distance:\", np.min(distances_au))\n"
   ]
  },
  {
   "cell_type": "markdown",
   "id": "87084c5a-598b-49d0-9446-4e7557e545f6",
   "metadata": {},
   "source": [
    "# Astropy Constants\n"
   ]
  },
  {
   "cell_type": "markdown",
   "id": "4a78c604-60b8-4a87-838e-880a7ec69100",
   "metadata": {},
   "source": [
    "Pre-defined astronomical constants.\n",
    "# Importing  astropy  constants and storing in \"const\"\n"
   ]
  },
  {
   "cell_type": "code",
   "execution_count": null,
   "id": "904f3ee8-5e44-49cd-8748-5676ea33c95b",
   "metadata": {},
   "outputs": [],
   "source": [
    "from astropy import constants as const\n",
    "\n",
    "# Speed of light\n",
    "c = const.c\n",
    "print(\"Speed of light:\", c)\n"
   ]
  },
  {
   "cell_type": "code",
   "execution_count": null,
   "id": "3535dc1d-ddc7-4f6a-880c-1afe7318a24c",
   "metadata": {},
   "outputs": [],
   "source": [
    "# Astronomical Unit (Earth-Sun distance)\n",
    "au = const.au\n",
    "print(\"1 AU:\", au)\n"
   ]
  },
  {
   "cell_type": "code",
   "execution_count": null,
   "id": "f02a0c36-7653-4c28-9ffb-4df178ef60cb",
   "metadata": {},
   "outputs": [],
   "source": [
    "# Universal Gravitational Constant\n",
    "G = const.G\n",
    "print(\"Gravitational constant:\", G)\n"
   ]
  },
  {
   "cell_type": "code",
   "execution_count": null,
   "id": "a26619b8-0422-4e1d-8326-02cd16931dcc",
   "metadata": {},
   "outputs": [],
   "source": [
    "# Earth Mass & Radius (useful for gravity calcs)\n",
    "M_earth = const.M_earth\n",
    "\n",
    "R_earth = const.R_earth\n",
    "\n",
    "print(\"Earth Mass:\", M_earth)\n",
    "\n",
    "print(\"Earth Radius:\", R_earth)\n"
   ]
  },
  {
   "cell_type": "code",
   "execution_count": null,
   "id": "915eced4-f571-40a0-86aa-626b1738b9a1",
   "metadata": {},
   "outputs": [],
   "source": [
    "# Planetary Comparison Activity -  ## Putting it all together! - Combine concepts to compare planets.\n",
    "\n",
    "\n",
    "# Example data\n",
    "planets = [\"Mercury\", \"Venus\", \"Earth\", \"Mars\"] # ... etc\n",
    "distances = np.array([]) # AU\n",
    "temps = np.array([ ]) # °C\n",
    "gravity = np.array([]) # Earth=1\n",
    "\n",
    "# print this all\n"
   ]
  },
  {
   "cell_type": "code",
   "execution_count": null,
   "id": "606e8bf9-9c62-431b-bac5-9c4d790f0839",
   "metadata": {},
   "outputs": [],
   "source": [
    "\n",
    "# While loop\n",
    "print(\"\\nRocket acceleration:\")\n",
    "velocity = 0\n",
    "while velocity < 11:\n",
    "    print(\"Velocity:\", velocity, \"km/s\")\n",
    "    velocity += 1\n",
    "print(\"Escape velocity reached! 🚀\")"
   ]
  },
  {
   "cell_type": "code",
   "execution_count": null,
   "id": "0e7a68d1-ae2c-4bbd-8cd8-50152455a2ce",
   "metadata": {},
   "outputs": [],
   "source": [
    "# # Day 2: Telescope Data Adventure 🔭\n",
    "# Today we'll learn to make space graphs and tables!\n",
    "\n",
    "import matplotlib.pyplot as plt\n",
    "import pandas as pd\n",
    "import numpy as np\n",
    "\n"
   ]
  },
  {
   "cell_type": "code",
   "execution_count": null,
   "id": "ceac95f7-f5db-4e87-9ba1-98e87dbbce02",
   "metadata": {},
   "outputs": [],
   "source": [
    "# ## 1. Simple Star Chart\n",
    "plt.plot([1,2,3,4], [1,4,9,16], 'ro')\n",
    "plt.title(\"Star Brightness Over Time\")\n",
    "plt.show()\n",
    "\n"
   ]
  },
  {
   "cell_type": "code",
   "execution_count": null,
   "id": "b73b1e27-fa53-4bc8-8474-0bb47af2565c",
   "metadata": {},
   "outputs": [],
   "source": [
    "# ## 2. Planet Size Bar Chart\n",
    "planets = [\"Mercury\", \"Venus\", \"Earth\", \"Mars\"]\n",
    "sizes = [0.38, 0.95, 1, 0.53]  # Relative to Earth\n",
    "plt.bar(planets, sizes, color=['gray', 'yellow', 'blue', 'red'])\n",
    "plt.title(\"Planet Sizes (Earth=1)\")\n",
    "plt.show()\n"
   ]
  },
  {
   "cell_type": "code",
   "execution_count": null,
   "id": "0b9a64cf-b6da-44a8-9644-17f252ff415d",
   "metadata": {},
   "outputs": [],
   "source": [
    "\n",
    "# ## 3. Moon Phase Circle\n",
    "angles = np.linspace(0, 2*np.pi, 8)\n",
    "plt.polar(angles, [1]*8, 'yo', markersize=20)\n",
    "plt.title(\"Moon Phases\")\n",
    "plt.show()\n",
    "\n"
   ]
  },
  {
   "cell_type": "code",
   "execution_count": null,
   "id": "1f1e22bb-e3b3-49ca-bf6e-a5733e7015c5",
   "metadata": {},
   "outputs": [],
   "source": [
    "# ## 4. Meteor Shower Data\n",
    "meteors = pd.DataFrame({\n",
    "    \"Hour\": [20, 21, 22, 23, 0],\n",
    "    \"Count\": [3, 12, 28, 15, 4]\n",
    "})\n",
    "print(meteors)\n"
   ]
  },
  {
   "cell_type": "code",
   "execution_count": null,
   "id": "03c42c25-73a7-4bf4-afdc-42f30da0b913",
   "metadata": {},
   "outputs": [],
   "source": [
    "\n",
    "# ## 5. Meteor Shower Graph\n",
    "plt.plot(meteors[\"Hour\"], meteors[\"Count\"], 'g--o')\n",
    "plt.title(\"Meteors Per Hour\")\n",
    "plt.xlabel(\"Time (24hr)\")\n",
    "plt.ylabel(\"Meteors Seen\")\n",
    "plt.show()\n"
   ]
  },
  {
   "cell_type": "code",
   "execution_count": null,
   "id": "e2dda4c9-a8fe-4760-81d2-6aa0f916f73a",
   "metadata": {},
   "outputs": [],
   "source": [
    "\n",
    "# ## 6. Planet Colors\n",
    "colors = pd.Series([\"gray\", \"yellow\", \"blue\", \"red\"], \n",
    "                   index=planets)\n",
    "print(\"Planet Colors:\\n\", colors)\n",
    "\n",
    "# ## 7. Solar System Pizza Chart\n",
    "plt.pie(sizes, labels=planets, colors=['gray','yellow','blue','red'])\n",
    "plt.title(\"Rocky Planet Sizes\")\n",
    "plt.show()\n"
   ]
  },
  {
   "cell_type": "code",
   "execution_count": null,
   "id": "c4f2d4a8-964f-4b86-80a4-f1cbdd22390f",
   "metadata": {},
   "outputs": [],
   "source": [
    "\n",
    "# ## 8. Star Twinkle Simulation\n",
    "x = np.random.rand(50)\n",
    "y = np.random.rand(50)\n",
    "sizes = np.random.rand(50)*100\n",
    "plt.scatter(x, y, s=sizes, c=sizes, cmap='Blues')\n",
    "plt.title(\"Twinkling Stars\")\n",
    "plt.show()\n"
   ]
  },
  {
   "cell_type": "code",
   "execution_count": null,
   "id": "1c6ea04e-e2f6-4ec1-b91b-cd930037ea09",
   "metadata": {},
   "outputs": [],
   "source": [
    "\n",
    "# ## 9. Planet Temperature Graph\n",
    "temps = [167, 464, 15, -63]\n",
    "plt.barh(planets, temps, color=['gray','yellow','blue','red'])\n",
    "plt.title(\"Surface Temperatures (°C)\")\n",
    "plt.show()\n"
   ]
  },
  {
   "cell_type": "code",
   "execution_count": null,
   "id": "69f84bc8-db89-4ab2-b1f0-fd647de7ce5a",
   "metadata": {},
   "outputs": [],
   "source": [
    "\n",
    "# ## 10. Space Mission Timeline\n",
    "missions = pd.DataFrame({\n",
    "    \"Year\": [1961, 1969, 1977, 2012],\n",
    "    \"Mission\": [\"First human\", \"Moon landing\", \"Voyager\", \"Curiosity\"]\n",
    "})\n",
    "print(\"Cool Space Missions:\\n\", missions)"
   ]
  },
  {
   "cell_type": "code",
   "execution_count": null,
   "id": "d971ce87-2ccd-4a4a-a66d-0edc4091d60c",
   "metadata": {},
   "outputs": [],
   "source": []
  },
  {
   "cell_type": "code",
   "execution_count": null,
   "id": "61fa15bc-5005-49bb-b354-b6ee786712e4",
   "metadata": {},
   "outputs": [],
   "source": [
    "# Puzzle 1: The Missing Planet   -  Add the missing planet in the right place.\n",
    "\n",
    "\n",
    "planets = [\"Mercury\", \"Venus\", \"Earth\", \"Mars\",\n",
    "           \"Jupiter\", \"Saturn\", \"Neptune\"]\n",
    "print(\"Something's not right...\")\n",
    "print(planets)\n",
    "\n",
    "\n",
    "# **Hint:** Which planet comes after Saturn and before Neptune?"
   ]
  },
  {
   "cell_type": "code",
   "execution_count": null,
   "id": "4bb9481c-8cf6-4f7b-be1f-219aa81d970c",
   "metadata": {},
   "outputs": [],
   "source": [
    "# Puzzle 2: Astronomical Calculator - Fix the function to return *both* sum and product.\n",
    "\n",
    "\n",
    "def space_math_broken(a, b):\n",
    "    result1 = a + b # Sum\n",
    "    result2 = a * b # Product\n",
    "    return result1 # Only returns sum\n",
    "\n",
    "print(space_math_broken(5, 3))\n",
    "\n",
    "# Hint:** Functions can return multiple values as a tuple.\n"
   ]
  },
  {
   "cell_type": "code",
   "execution_count": null,
   "id": "f1d3591c-51b2-4e82-b5d9-dd3d67c28369",
   "metadata": {},
   "outputs": [],
   "source": [
    "# Puzzle 3: Message Decoder - Decode the reversed message.\n",
    "\n",
    "\n",
    "message = \"tsae eht ni sesir nus ehT\"\n",
    "print(\"Encrypted message:\")\n",
    "print(message)\n",
    "\n",
    "# **Hint:** Python can reverse strings easily using slicing `[::-1]`.\n"
   ]
  },
  {
   "cell_type": "code",
   "execution_count": null,
   "id": "9cb9e7a7-fb96-47eb-a2f3-e86a37626413",
   "metadata": {},
   "outputs": [],
   "source": [
    "# Puzzle 4: Cosmic Calculator -  Calculate how far light travels in one day.\n",
    "\n",
    "# Light speed: 299,792 km/s\n",
    "\n",
    "\n",
    "# Calculate distance in km for 1 day\n",
    "\n",
    "\n",
    "#**Hint:** Multiply speed by seconds in a day (24 * 60 * 60).\n"
   ]
  }
 ],
 "metadata": {
  "kernelspec": {
   "display_name": "Python 3 (ipykernel)",
   "language": "python",
   "name": "python3"
  },
  "language_info": {
   "codemirror_mode": {
    "name": "ipython",
    "version": 3
   },
   "file_extension": ".py",
   "mimetype": "text/x-python",
   "name": "python",
   "nbconvert_exporter": "python",
   "pygments_lexer": "ipython3",
   "version": "3.9.21"
  }
 },
 "nbformat": 4,
 "nbformat_minor": 5
}
